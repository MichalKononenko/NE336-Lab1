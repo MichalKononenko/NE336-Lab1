{
 "cells": [
  {
   "cell_type": "code",
   "execution_count": 1,
   "metadata": {
    "collapsed": false
   },
   "outputs": [],
   "source": [
    "import sys\n",
    "import os\n",
    "\n",
    "sys.path.append(os.path.abspath(os.path.curdir))\n",
    "sys.path.append(os.path.abspath(os.path.pardir))\n"
   ]
  },
  {
   "cell_type": "code",
   "execution_count": 2,
   "metadata": {
    "collapsed": false
   },
   "outputs": [],
   "source": [
    "from typing import Union\n",
    "import numpy as np\n",
    "import matplotlib.pyplot as plt\n",
    "from part4 import DSCCurve\n",
    "\n",
    "%matplotlib inline"
   ]
  },
  {
   "cell_type": "code",
   "execution_count": 3,
   "metadata": {
    "collapsed": true
   },
   "outputs": [],
   "source": [
    "curve = DSCCurve(os.path.join(os.path.pardir, 'lab1_data.csv'))"
   ]
  },
  {
   "cell_type": "markdown",
   "metadata": {},
   "source": [
    "### Curve Plotting ###"
   ]
  },
  {
   "cell_type": "code",
   "execution_count": 4,
   "metadata": {
    "collapsed": false
   },
   "outputs": [
    {
     "data": {
      "image/png": "[encoded data removed]",
      "text/plain": [
       "<matplotlib.figure.Figure at 0x7f529f605ba8>"
      ]
     },
     "metadata": {},
     "output_type": "display_data"
    }
   ],
   "source": [
    "x_axis = [point.temperature for point in curve]\n",
    "y_axis = [point.heat_flux for point in curve]\n",
    "\n",
    "plt.plot(x_axis, y_axis, 'o')\n",
    "plt.xlabel('Temperature')\n",
    "plt.ylabel('Heat Flux')\n",
    "plt.show()"
   ]
  },
  {
   "cell_type": "markdown",
   "metadata": {},
   "source": [
    "#### Glass Transition Temperature ####"
   ]
  },
  {
   "cell_type": "code",
   "execution_count": 5,
   "metadata": {
    "collapsed": false
   },
   "outputs": [
    {
     "name": "stdout",
     "output_type": "stream",
     "text": [
      "Derivative(temperature=70.6085, change_in_flux=array(-1.770341556664789))\n"
     ]
    }
   ],
   "source": [
    "print(curve.glass_transition_temperature(40, 100))"
   ]
  },
  {
   "cell_type": "markdown",
   "metadata": {},
   "source": [
    "#### Melting Temperature ####"
   ]
  },
  {
   "cell_type": "code",
   "execution_count": 6,
   "metadata": {
    "collapsed": false
   },
   "outputs": [
    {
     "name": "stdout",
     "output_type": "stream",
     "text": [
      "DSCPoint(temperature=267.164, heat_flux=16.4021)\n"
     ]
    }
   ],
   "source": [
    "print(curve.melting_temperature)"
   ]
  },
  {
   "cell_type": "markdown",
   "metadata": {},
   "source": [
    "#### Crystallization Temperature ####"
   ]
  },
  {
   "cell_type": "code",
   "execution_count": 7,
   "metadata": {
    "collapsed": false
   },
   "outputs": [
    {
     "name": "stdout",
     "output_type": "stream",
     "text": [
      "DSCPoint(temperature=155.889, heat_flux=88.8889)\n"
     ]
    }
   ],
   "source": [
    "print(curve.crystallization_temperature)"
   ]
  },
  {
   "cell_type": "markdown",
   "metadata": {
    "collapsed": true
   },
   "source": [
    "### Phase Changes ###"
   ]
  },
  {
   "cell_type": "code",
   "execution_count": 8,
   "metadata": {
    "collapsed": false
   },
   "outputs": [
    {
     "name": "stdout",
     "output_type": "stream",
     "text": [
      "[Derivative(temperature=61.7037, change_in_flux=array(-0.11873362561895817)), Derivative(temperature=70.6085, change_in_flux=array(0.12801645863737576)), Derivative(temperature=107.587, change_in_flux=array(-0.009550396789705928)), Derivative(temperature=117.582, change_in_flux=array(0.028002958659385513)), Derivative(temperature=145.799, change_in_flux=array(-0.0637175798183307)), Derivative(temperature=170.767, change_in_flux=array(0.13457140466198325)), Derivative(temperature=174.72, change_in_flux=array(-0.02130469516851008)), Derivative(temperature=179.656, change_in_flux=array(0.10381850250996649)), Derivative(temperature=185.614, change_in_flux=array(-0.0027660253108479083)), Derivative(temperature=191.571, change_in_flux=array(0.04264835815411061)), Derivative(temperature=211.556, change_in_flux=array(-0.008850339359923964)), Derivative(temperature=241.46, change_in_flux=array(0.005323286633938551)), Derivative(temperature=247.402, change_in_flux=array(-0.16966984467580914)), Derivative(temperature=253.302, change_in_flux=array(0.19548913091421127)), Derivative(temperature=257.254, change_in_flux=array(-0.013593420386314392)), Derivative(temperature=261.206, change_in_flux=array(0.05618944391608238)), Derivative(temperature=278.228, change_in_flux=array(-0.07753169536590576)), Derivative(temperature=281.28, change_in_flux=array(1.3273718357086182))]\n"
     ]
    }
   ],
   "source": [
    "print(curve.phase_changes)"
   ]
  },
  {
   "cell_type": "markdown",
   "metadata": {
    "collapsed": true
   },
   "source": [
    "### Latent Heat ###"
   ]
  },
  {
   "cell_type": "markdown",
   "metadata": {},
   "source": [
    "#### Crystalline Transition ###"
   ]
  },
  {
   "cell_type": "code",
   "execution_count": 9,
   "metadata": {
    "collapsed": false
   },
   "outputs": [
    {
     "name": "stdout",
     "output_type": "stream",
     "text": [
      "8.88889\n"
     ]
    }
   ],
   "source": [
    "print(curve.crystallization_temperature.heat_flux / 10)"
   ]
  },
  {
   "cell_type": "markdown",
   "metadata": {},
   "source": [
    "#### Melting "
   ]
  },
  {
   "cell_type": "code",
   "execution_count": 10,
   "metadata": {
    "collapsed": false
   },
   "outputs": [
    {
     "name": "stdout",
     "output_type": "stream",
     "text": [
      "1.6402100000000002\n"
     ]
    }
   ],
   "source": [
    "print(curve.melting_temperature.heat_flux / 10)"
   ]
  },
  {
   "cell_type": "code",
   "execution_count": null,
   "metadata": {
    "collapsed": true
   },
   "outputs": [],
   "source": []
  }
 ],
 "metadata": {
  "kernelspec": {
   "display_name": "Python 3",
   "language": "python",
   "name": "python3"
  },
  "language_info": {
   "codemirror_mode": {
    "name": "ipython",
    "version": 3
   },
   "file_extension": ".py",
   "mimetype": "text/x-python",
   "name": "python",
   "nbconvert_exporter": "python",
   "pygments_lexer": "ipython3",
   "version": "3.5.1+"
  }
 },
 "nbformat": 4,
 "nbformat_minor": 1
}
