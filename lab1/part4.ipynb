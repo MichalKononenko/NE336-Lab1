{
 "cells": [
  {
   "cell_type": "markdown",
   "metadata": {},
   "source": [
    "## Part 4 ##\n",
    "Michal Kononenko\n",
    "20510469"
   ]
  },
  {
   "cell_type": "code",
   "execution_count": 1,
   "metadata": {
    "collapsed": false
   },
   "outputs": [],
   "source": [
    "import sys\n",
    "import os\n",
    "\n",
    "sys.path.append(os.path.abspath(os.path.curdir))\n",
    "sys.path.append(os.path.abspath(os.path.pardir))\n"
   ]
  },
  {
   "cell_type": "code",
   "execution_count": 2,
   "metadata": {
    "collapsed": false
   },
   "outputs": [],
   "source": [
    "from typing import Union\n",
    "import numpy as np\n",
    "import matplotlib.pyplot as plt\n",
    "from part4 import DSCCurve\n",
    "from interpolators import lagrange_evaluate, lagrange_integrate\n",
    "\n",
    "%matplotlib inline"
   ]
  },
  {
   "cell_type": "markdown",
   "metadata": {},
   "source": [
    "Read in the DSC Curve"
   ]
  },
  {
   "cell_type": "code",
   "execution_count": 3,
   "metadata": {
    "collapsed": true
   },
   "outputs": [],
   "source": [
    "curve = DSCCurve(os.path.join(os.path.pardir, 'lab1_data.csv'))"
   ]
  },
  {
   "cell_type": "markdown",
   "metadata": {},
   "source": [
    "### Curve Plotting ###"
   ]
  },
  {
   "cell_type": "code",
   "execution_count": 4,
   "metadata": {
    "collapsed": false
   },
   "outputs": [
    {
     "data": {
      "image/png": "[encoded data removed]",
      "text/plain": [
       "<matplotlib.figure.Figure at 0x7f0d5dc0ce80>"
      ]
     },
     "metadata": {},
     "output_type": "display_data"
    }
   ],
   "source": [
    "x_axis = [point.temperature for point in curve]\n",
    "y_axis = [point.heat_flux for point in curve]\n",
    "\n",
    "plt.plot(x_axis, y_axis, 'o')\n",
    "plt.xlabel('Temperature')\n",
    "plt.ylabel('Heat Flux')\n",
    "plt.title('DSC Curve, Heat Flux as a function of temperature')\n",
    "plt.show()"
   ]
  },
  {
   "cell_type": "markdown",
   "metadata": {},
   "source": [
    "##### Derivative #####"
   ]
  },
  {
   "cell_type": "code",
   "execution_count": 5,
   "metadata": {
    "collapsed": false
   },
   "outputs": [
    {
     "data": {
      "image/png": "[encoded data removed]",
      "text/plain": [
       "<matplotlib.figure.Figure at 0x7f0d5bbd14a8>"
      ]
     },
     "metadata": {},
     "output_type": "display_data"
    }
   ],
   "source": [
    "derivative = curve.derivative(order=1)\n",
    "\n",
    "x_axis = [point.temperature for point in derivative]\n",
    "y_axis = [point.change_in_flux for point in derivative]\n",
    "\n",
    "plt.plot(x_axis, y_axis, 'o-')\n",
    "plt.xlabel('Temperature')\n",
    "plt.ylabel('Heat Flux')\n",
    "plt.title('DSC Curve, Change in Heat flux as a function of temperature')\n",
    "plt.show()"
   ]
  },
  {
   "cell_type": "markdown",
   "metadata": {},
   "source": [
    "#### Glass Transition Temperature ####"
   ]
  },
  {
   "cell_type": "code",
   "execution_count": 6,
   "metadata": {
    "collapsed": false
   },
   "outputs": [
    {
     "name": "stdout",
     "output_type": "stream",
     "text": [
      "Derivative(temperature=70.6085, change_in_flux=array(-1.7703415473515633))\n"
     ]
    }
   ],
   "source": [
    "print(curve.glass_transition_temperature(40, 100))"
   ]
  },
  {
   "cell_type": "markdown",
   "metadata": {},
   "source": [
    "#### Melting Temperature ####"
   ]
  },
  {
   "cell_type": "code",
   "execution_count": 7,
   "metadata": {
    "collapsed": false
   },
   "outputs": [
    {
     "name": "stdout",
     "output_type": "stream",
     "text": [
      "DSCPoint(temperature=267.164, heat_flux=16.4021)\n"
     ]
    }
   ],
   "source": [
    "print(curve.melting_temperature)"
   ]
  },
  {
   "cell_type": "code",
   "execution_count": 8,
   "metadata": {
    "collapsed": false
   },
   "outputs": [
    {
     "name": "stdout",
     "output_type": "stream",
     "text": [
      "[  8.43017392e-04  -6.12396163e-01   1.46341894e+02  -1.14458429e+04]\n"
     ]
    }
   ],
   "source": [
    "spread = 10\n",
    "coeffs = curve.interpolant(\n",
    "    curve.melting_temperature.temperature - spread,\n",
    "    curve.melting_temperature.temperature + spread\n",
    ")\n",
    "\n",
    "print(coeffs)\n",
    "\n"
   ]
  },
  {
   "cell_type": "markdown",
   "metadata": {},
   "source": [
    "#### Crystallization Temperature ####"
   ]
  },
  {
   "cell_type": "code",
   "execution_count": 9,
   "metadata": {
    "collapsed": false
   },
   "outputs": [
    {
     "name": "stdout",
     "output_type": "stream",
     "text": [
      "DSCPoint(temperature=155.889, heat_flux=88.8889)\n"
     ]
    }
   ],
   "source": [
    "print(curve.crystallization_temperature)"
   ]
  },
  {
   "cell_type": "markdown",
   "metadata": {
    "collapsed": true
   },
   "source": [
    "### Phase Changes ###"
   ]
  },
  {
   "cell_type": "code",
   "execution_count": 10,
   "metadata": {
    "collapsed": false
   },
   "outputs": [
    {
     "name": "stdout",
     "output_type": "stream",
     "text": [
      "[  2.64760447e-03  -2.52629124e-01   7.68596513e+01]\n"
     ]
    }
   ],
   "source": [
    "coeffs = curve.interpolant(0, 55)\n",
    "\n",
    "print(coeffs)\n"
   ]
  },
  {
   "cell_type": "code",
   "execution_count": 11,
   "metadata": {
    "collapsed": false
   },
   "outputs": [
    {
     "name": "stdout",
     "output_type": "stream",
     "text": [
      "[  1.11022302e-16  -7.10542736e-15   5.87302000e+01]\n"
     ]
    }
   ],
   "source": [
    "temp = 100\n",
    "spread = 15\n",
    "coeffs = curve.interpolant(temp - spread, temp + spread)\n",
    "print(coeffs)"
   ]
  },
  {
   "cell_type": "code",
   "execution_count": 12,
   "metadata": {
    "collapsed": false
   },
   "outputs": [
    {
     "name": "stdout",
     "output_type": "stream",
     "text": [
      "[ -3.67828945e-03   1.51954551e+00  -1.01288064e+02]\n",
      "DSCPoint(temperature=211.556, heat_flux=55.5556)\n"
     ]
    }
   ],
   "source": [
    "temp = 210\n",
    "spread = 10\n",
    "coeffs = curve.interpolant(temp - spread, temp + spread)\n",
    "print(coeffs)\n",
    "\n",
    "print(curve[26])"
   ]
  },
  {
   "cell_type": "markdown",
   "metadata": {
    "collapsed": true
   },
   "source": [
    "### Latent Heat ###"
   ]
  },
  {
   "cell_type": "markdown",
   "metadata": {},
   "source": [
    "#### Crystallization ####"
   ]
  },
  {
   "cell_type": "code",
   "execution_count": 13,
   "metadata": {
    "collapsed": false
   },
   "outputs": [
    {
     "name": "stdout",
     "output_type": "stream",
     "text": [
      "polynomial order is 8\n",
      "Area is 2128.14017165\n"
     ]
    }
   ],
   "source": [
    "temp = curve.crystallization_temperature.temperature\n",
    "\n",
    "inter_lower_limit = temp - 20\n",
    "inter_upper_limit = temp + 15\n",
    "\n",
    "coeffs = curve.interpolant(inter_lower_limit, inter_upper_limit)\n",
    "\n",
    "print('polynomial order is ' + str(len(coeffs)))\n",
    "\n",
    "t1 = 145.799\n",
    "t2 = 170.767\n",
    "\n",
    "heat_flux = lagrange_integrate(coeffs, t1, t2)\n",
    "\n",
    "print('Area is ' + str(heat_flux))\n"
   ]
  },
  {
   "cell_type": "code",
   "execution_count": 14,
   "metadata": {
    "collapsed": false
   },
   "outputs": [
    {
     "data": {
      "image/png": "[encoded data removed]",
      "text/plain": [
       "<matplotlib.figure.Figure at 0x7f0d5bb66780>"
      ]
     },
     "metadata": {},
     "output_type": "display_data"
    }
   ],
   "source": [
    "# Plotting interpolant\n",
    "\n",
    "x1 = [point.temperature for point in curve \n",
    "      if inter_lower_limit <= point.temperature <= inter_upper_limit]\n",
    "y1 = [point.heat_flux for point in curve \n",
    "      if inter_lower_limit <= point.temperature <= inter_upper_limit]\n",
    "\n",
    "x2 = np.linspace(t1, t2, 50)\n",
    "y2 = lagrange_evaluate(coeffs, x2)\n",
    "\n",
    "plt.plot(x1, y1, 'o', x2, y2, '-')\n",
    "plt.ylim(0, 100)\n",
    "plt.xlabel('Temperature')\n",
    "plt.ylabel('Heat flux')\n",
    "plt.title('Line of fit between interpolant (green) and data points')\n",
    "plt.show()"
   ]
  },
  {
   "cell_type": "markdown",
   "metadata": {},
   "source": [
    "#### Melting "
   ]
  },
  {
   "cell_type": "markdown",
   "metadata": {},
   "source": [
    "Calculate for right-hand interval of interpolant"
   ]
  },
  {
   "cell_type": "code",
   "execution_count": 15,
   "metadata": {
    "collapsed": false
   },
   "outputs": [
    {
     "name": "stdout",
     "output_type": "stream",
     "text": [
      "polynomial order is 9\n",
      "Area is 608.193359375\n"
     ]
    }
   ],
   "source": [
    "temp = curve.melting_temperature.temperature\n",
    "\n",
    "inter_lower_limit = temp -25\n",
    "inter_upper_limit = temp + 15\n",
    "\n",
    "coeffs = curve.interpolant(inter_lower_limit, inter_upper_limit)\n",
    "\n",
    "print('polynomial order is ' + str(len(coeffs)))\n",
    "\n",
    "t1 = 250\n",
    "t2 = 278.228\n",
    "\n",
    "heat_flux = lagrange_integrate(coeffs, t1, t2)\n",
    "\n",
    "print('Area is ' + str(heat_flux))"
   ]
  },
  {
   "cell_type": "code",
   "execution_count": 16,
   "metadata": {
    "collapsed": false
   },
   "outputs": [
    {
     "data": {
      "image/png": "[encoded data removed]",
      "text/plain": [
       "<matplotlib.figure.Figure at 0x7f0d5baf4358>"
      ]
     },
     "metadata": {},
     "output_type": "display_data"
    }
   ],
   "source": [
    "# Plotting interpolant\n",
    "\n",
    "x1 = [point.temperature for point in curve \n",
    "      if inter_lower_limit <= point.temperature <= inter_upper_limit]\n",
    "y1 = [point.heat_flux for point in curve \n",
    "      if inter_lower_limit <= point.temperature <= inter_upper_limit]\n",
    "\n",
    "x2 = np.linspace(t1, t2, 50)\n",
    "y2 = lagrange_evaluate(coeffs, x2)\n",
    "\n",
    "plt.plot(x1, y1, 'o', x2, y2, '-')\n",
    "plt.ylim(0, 100)\n",
    "plt.xlabel('Temperature')\n",
    "plt.ylabel('Heat flux')\n",
    "plt.title('Line of fit between interpolant (green) and data points')\n",
    "plt.show()"
   ]
  },
  {
   "cell_type": "markdown",
   "metadata": {},
   "source": [
    "Calculate for second half of the interpolant"
   ]
  },
  {
   "cell_type": "code",
   "execution_count": 17,
   "metadata": {
    "collapsed": false
   },
   "outputs": [
    {
     "name": "stdout",
     "output_type": "stream",
     "text": [
      "polynomial order is 7\n",
      "Area is 357.637187243\n"
     ]
    }
   ],
   "source": [
    "inter2_lower_limit = 220\n",
    "inter2_upper_limit = 260\n",
    "\n",
    "coeffs = curve.interpolant(inter2_lower_limit, inter2_upper_limit)\n",
    "\n",
    "print('polynomial order is ' + str(len(coeffs)))\n",
    "\n",
    "t12 = 241.46\n",
    "t22 = 250\n",
    "\n",
    "heat_flux_2 = lagrange_integrate(coeffs, t12, t22)\n",
    "\n",
    "print('Area is ' + str(heat_flux_2))"
   ]
  },
  {
   "cell_type": "code",
   "execution_count": 18,
   "metadata": {
    "collapsed": false
   },
   "outputs": [
    {
     "data": {
      "image/png": "[encoded data removed]",
      "text/plain": [
       "<matplotlib.figure.Figure at 0x7f0d5ba510f0>"
      ]
     },
     "metadata": {},
     "output_type": "display_data"
    }
   ],
   "source": [
    "# Plotting interpolant\n",
    "\n",
    "x1 = [point.temperature for point in curve \n",
    "      if inter2_lower_limit <= point.temperature <= inter2_upper_limit]\n",
    "y1 = [point.heat_flux for point in curve \n",
    "      if inter2_lower_limit <= point.temperature <= inter2_upper_limit]\n",
    "\n",
    "x2 = np.linspace(t12, t22, 50)\n",
    "y2 = lagrange_evaluate(coeffs, x2)\n",
    "\n",
    "plt.plot(x1, y1, 'o', x2, y2, '-')\n",
    "plt.ylim(0, 100)\n",
    "plt.xlabel('Temperature')\n",
    "plt.ylabel('Heat flux')\n",
    "plt.title('Line of fit between interpolant (green) and data points')\n",
    "plt.show()"
   ]
  },
  {
   "cell_type": "code",
   "execution_count": 19,
   "metadata": {
    "collapsed": false
   },
   "outputs": [
    {
     "name": "stdout",
     "output_type": "stream",
     "text": [
      "Heat flux is 965.830546618\n"
     ]
    }
   ],
   "source": [
    "total_area = heat_flux + heat_flux_2\n",
    "\n",
    "print('Heat flux is ' + str(total_area))"
   ]
  },
  {
   "cell_type": "markdown",
   "metadata": {},
   "source": [
    "### Phase Changes ###\n",
    "At the points listed, a sign change occurs in the second derivative. \n",
    "It is up to the user to determine if the change occured due to noise, or\n",
    "whether a more significant event happened at this temperature"
   ]
  },
  {
   "cell_type": "code",
   "execution_count": 20,
   "metadata": {
    "collapsed": false
   },
   "outputs": [
    {
     "name": "stdout",
     "output_type": "stream",
     "text": [
      "[Derivative(temperature=61.7037, change_in_flux=array(-0.11873362670267795)), Derivative(temperature=70.6085, change_in_flux=array(0.12801645867648404)), Derivative(temperature=107.587, change_in_flux=array(-0.009550396827762597)), Derivative(temperature=117.582, change_in_flux=array(0.028002958165643577)), Derivative(temperature=145.799, change_in_flux=array(-0.06371761113405228)), Derivative(temperature=170.767, change_in_flux=array(0.13457244425080717)), Derivative(temperature=174.72, change_in_flux=array(-0.021304003661498427)), Derivative(temperature=179.656, change_in_flux=array(0.10381807596422732)), Derivative(temperature=185.614, change_in_flux=array(-0.0027662101201713085)), Derivative(temperature=191.571, change_in_flux=array(0.042648287140764296)), Derivative(temperature=211.556, change_in_flux=array(-0.008850332096699276)), Derivative(temperature=241.46, change_in_flux=array(0.0053244109731167555)), Derivative(temperature=247.402, change_in_flux=array(-0.16966959554702044)), Derivative(temperature=253.302, change_in_flux=array(0.1954711489379406)), Derivative(temperature=257.254, change_in_flux=array(-0.013575892895460129)), Derivative(temperature=261.206, change_in_flux=array(0.0561816431581974)), Derivative(temperature=278.228, change_in_flux=array(-0.07674640417098999)), Derivative(temperature=281.28, change_in_flux=array(1.332108497619629))]\n"
     ]
    }
   ],
   "source": [
    "print(curve.phase_changes)"
   ]
  },
  {
   "cell_type": "code",
   "execution_count": null,
   "metadata": {
    "collapsed": true
   },
   "outputs": [],
   "source": []
  }
 ],
 "metadata": {
  "kernelspec": {
   "display_name": "Python 3",
   "language": "python",
   "name": "python3"
  },
  "language_info": {
   "codemirror_mode": {
    "name": "ipython",
    "version": 3
   },
   "file_extension": ".py",
   "mimetype": "text/x-python",
   "name": "python",
   "nbconvert_exporter": "python",
   "pygments_lexer": "ipython3",
   "version": "3.5.1+"
  }
 },
 "nbformat": 4,
 "nbformat_minor": 1
}
